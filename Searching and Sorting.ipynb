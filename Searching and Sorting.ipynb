{
 "cells": [
  {
   "cell_type": "code",
   "execution_count": 8,
   "metadata": {},
   "outputs": [
    {
     "name": "stdout",
     "output_type": "stream",
     "text": [
      "Array: [2, 4, 6, 8, 10, 12, 14]\n",
      "Target: 10\n",
      "Result: 4\n"
     ]
    }
   ],
   "source": [
    "# 1. Implement Binary Search\n",
    "\n",
    "# Define a function to implement binary search on a sorted array\n",
    "def binary_search(arr, target):\n",
    "    # Initialize two pointers to track the left and right boundaries of the search space\n",
    "    left = 0\n",
    "    right = len(arr) - 1\n",
    "\n",
    "    # Loop until the left pointer is greater than the right pointer\n",
    "    while left <= right:\n",
    "        # Find the middle index of the search space\n",
    "        mid = (left + right) // 2\n",
    "\n",
    "        # If the target is equal to the middle element, return the index\n",
    "        if target == arr[mid]:\n",
    "            return mid\n",
    "        # If the target is less than the middle element, narrow the search space to the left half\n",
    "        elif target < arr[mid]:\n",
    "            right = mid - 1\n",
    "        # If the target is greater than the middle element, narrow the search space to the right half\n",
    "        else:\n",
    "            left = mid + 1\n",
    "\n",
    "    # If the target is not found, return -1\n",
    "    return -1\n",
    "\n",
    "# Create a sample sorted array and a target value to test the function\n",
    "arr = [2, 4, 6, 8, 10, 12, 14]\n",
    "target = 10\n",
    "\n",
    "# Print the array and the target\n",
    "print(\"Array:\", arr)\n",
    "print(\"Target:\", target)\n",
    "\n",
    "# Call the function and print the result\n",
    "result = binary_search(arr, target)\n",
    "print(\"Result:\", result)\n"
   ]
  },
  {
   "cell_type": "code",
   "execution_count": 9,
   "metadata": {},
   "outputs": [
    {
     "name": "stdout",
     "output_type": "stream",
     "text": [
      "Original array: [10, 2, 5, 12, 7, 3, 8]\n",
      "Sorted array: [2, 3, 5, 7, 8, 10, 12]\n"
     ]
    }
   ],
   "source": [
    "# 2. Implement Merge Sort\n",
    "\n",
    "# Define a function to implement merge sort on an array\n",
    "def merge_sort(arr):\n",
    "    # If the array has less than two elements, it is already sorted and return it\n",
    "    if len(arr) < 2:\n",
    "        return arr\n",
    "\n",
    "    # Find the middle index of the array\n",
    "    mid = len(arr) // 2\n",
    "\n",
    "    # Recursively sort the left and right halves of the array\n",
    "    left = merge_sort(arr[:mid])\n",
    "    right = merge_sort(arr[mid:])\n",
    "\n",
    "    # Merge the two sorted halves into one sorted array\n",
    "    return merge(left, right)\n",
    "\n",
    "# Define a helper function to merge two sorted arrays\n",
    "def merge(left, right):\n",
    "    # Initialize an empty list to store the merged array\n",
    "    result = []\n",
    "\n",
    "    # Initialize two pointers to track the indices of the left and right arrays\n",
    "    i = 0\n",
    "    j = 0\n",
    "\n",
    "    # Loop until one of the arrays is exhausted\n",
    "    while i < len(left) and j < len(right):\n",
    "        # If the left element is smaller than or equal to the right element, append it to the result and increment the left pointer\n",
    "        if left[i] <= right[j]:\n",
    "            result.append(left[i])\n",
    "            i += 1\n",
    "        else:\n",
    "            # Otherwise, append the right element to the result and increment the right pointer\n",
    "            result.append(right[j])\n",
    "            j += 1\n",
    "\n",
    "    # Append the remaining elements from the left or right array to the result\n",
    "    result.extend(left[i:])\n",
    "    result.extend(right[j:])\n",
    "\n",
    "    # Return the merged array\n",
    "    return result\n",
    "\n",
    "# Create a sample unsorted array to test the function\n",
    "arr = [10, 2, 5, 12, 7, 3, 8]\n",
    "\n",
    "# Print the original array\n",
    "print(\"Original array:\", arr)\n",
    "\n",
    "# Call the function and print the result\n",
    "result = merge_sort(arr)\n",
    "print(\"Sorted array:\", result)\n",
    "\n"
   ]
  },
  {
   "cell_type": "code",
   "execution_count": 10,
   "metadata": {},
   "outputs": [
    {
     "name": "stdout",
     "output_type": "stream",
     "text": [
      "Original array: [10, 2, 5, 12, 7, 3, 8]\n",
      "Sorted array: [2, 3, 5, 7, 8, 10, 12]\n"
     ]
    }
   ],
   "source": [
    "# 3. Implement Quick Sort\n",
    "\n",
    "# Define a function to implement quick sort on an array\n",
    "def quick_sort(arr, low, high):\n",
    "    # If the low index is less than the high index, there are at least two elements to sort\n",
    "    if low < high:\n",
    "        # Partition the array and get the pivot index\n",
    "        pivot = partition(arr, low, high)\n",
    "\n",
    "        # Recursively sort the left and right subarrays of the pivot\n",
    "        quick_sort(arr, low, pivot - 1)\n",
    "        quick_sort(arr, pivot + 1, high)\n",
    "\n",
    "# Define a helper function to partition the array and return the pivot index\n",
    "def partition(arr, low, high):\n",
    "    # Choose the last element as the pivot\n",
    "    pivot = arr[high]\n",
    "\n",
    "    # Initialize a variable to track the position of the smaller elements\n",
    "    i = low - 1\n",
    "\n",
    "    # Loop from the low index to the high index - 1\n",
    "    for j in range(low, high):\n",
    "        # If the current element is smaller than or equal to the pivot, swap it with the next smaller element and increment i\n",
    "        if arr[j] <= pivot:\n",
    "            i += 1\n",
    "            arr[i], arr[j] = arr[j], arr[i]\n",
    "\n",
    "    # Swap the pivot with the next smaller element and return its index\n",
    "    i += 1\n",
    "    arr[i], arr[high] = arr[high], arr[i]\n",
    "    return i\n",
    "\n",
    "# Create a sample unsorted array to test the function\n",
    "arr = [10, 2, 5, 12, 7, 3, 8]\n",
    "\n",
    "# Print the original array\n",
    "print(\"Original array:\", arr)\n",
    "\n",
    "# Call the function and print the result\n",
    "quick_sort(arr, 0, len(arr) - 1)\n",
    "print(\"Sorted array:\", arr)\n"
   ]
  },
  {
   "cell_type": "code",
   "execution_count": 11,
   "metadata": {},
   "outputs": [
    {
     "name": "stdout",
     "output_type": "stream",
     "text": [
      "Original array: [10, 2, 5, 12, 7, 3, 8]\n",
      "Sorted array: [2, 3, 5, 7, 8, 10, 12]\n"
     ]
    }
   ],
   "source": [
    "# 4. Implement Insertion Sort\n",
    "\n",
    "\n",
    "# Define a function to implement insertion sort on an array\n",
    "def insertion_sort(arr):\n",
    "    # Loop from the second element to the last element of the array\n",
    "    for i in range(1, len(arr)):\n",
    "        # Store the current element as the key\n",
    "        key = arr[i]\n",
    "\n",
    "        # Initialize a variable to track the position of the previous element\n",
    "        j = i - 1\n",
    "\n",
    "        # Loop until the previous element is greater than the key or the beginning of the array is reached\n",
    "        while j >= 0 and arr[j] > key:\n",
    "            # Shift the previous element to the right by one position\n",
    "            arr[j + 1] = arr[j]\n",
    "\n",
    "            # Decrement the position variable by one\n",
    "            j -= 1\n",
    "\n",
    "        # Insert the key at the correct position\n",
    "        arr[j + 1] = key\n",
    "\n",
    "    # Return the sorted array\n",
    "    return arr\n",
    "\n",
    "# Create a sample unsorted array to test the function\n",
    "arr = [10, 2, 5, 12, 7, 3, 8]\n",
    "\n",
    "# Print the original array\n",
    "print(\"Original array:\", arr)\n",
    "\n",
    "# Call the function and print the result\n",
    "result = insertion_sort(arr)\n",
    "print(\"Sorted array:\", result)\n"
   ]
  },
  {
   "cell_type": "code",
   "execution_count": 12,
   "metadata": {},
   "outputs": [
    {
     "name": "stdout",
     "output_type": "stream",
     "text": [
      "Original list: ['apple', 'banana', 'cherry', 'date', 'elderberry']\n",
      "Sorted list: ['apple', 'banana', 'cherry', 'date', 'elderberry']\n"
     ]
    }
   ],
   "source": [
    "# 5. Write a program to sort list of strings (similar to that of dictionary)\n",
    "\n",
    "\n",
    "# Define a function to sort a list of strings in dictionary order\n",
    "def sort_strings(lst):\n",
    "    # Loop through the list and compare each pair of adjacent strings\n",
    "    for i in range(len(lst) - 1):\n",
    "        for j in range(i + 1, len(lst)):\n",
    "            # If the first string is lexicographically greater than the second string, swap them\n",
    "            if lst[i] > lst[j]:\n",
    "                lst[i], lst[j] = lst[j], lst[i]\n",
    "\n",
    "    # Return the sorted list\n",
    "    return lst\n",
    "\n",
    "# Create a sample list of strings to test the function\n",
    "lst = [\"apple\", \"banana\", \"cherry\", \"date\", \"elderberry\"]\n",
    "\n",
    "# Print the original list\n",
    "print(\"Original list:\", lst)\n",
    "\n",
    "# Call the function and print the result\n",
    "result = sort_strings(lst)\n",
    "print(\"Sorted list:\", result)\n"
   ]
  }
 ],
 "metadata": {
  "kernelspec": {
   "display_name": "Python 3",
   "language": "python",
   "name": "python3"
  },
  "language_info": {
   "codemirror_mode": {
    "name": "ipython",
    "version": 3
   },
   "file_extension": ".py",
   "mimetype": "text/x-python",
   "name": "python",
   "nbconvert_exporter": "python",
   "pygments_lexer": "ipython3",
   "version": "3.11.5"
  }
 },
 "nbformat": 4,
 "nbformat_minor": 2
}
